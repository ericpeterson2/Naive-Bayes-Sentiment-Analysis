{
 "cells": [
  {
   "cell_type": "markdown",
   "metadata": {},
   "source": [
    "#  Overview\n",
    "\n",
    "Sentiment analysis involves identifying the attitude or opinion expressed in a piece of text, such as a document or speech. It has practical uses in areas like marketing, where customer feedback in the form of comments, reviews, and messages can be analyzed to improve business strategies. One common method for performing sentiment analysis is using a bag of words model, which represents a document as a numerical vector by counting the number of times each word appears. This is, of course, a substantial simplification as it disregards the linguistic structure of the document."
   ]
  },
  {
   "cell_type": "markdown",
   "metadata": {},
   "source": [
    "# Table of Contents\n",
    "\n",
    "1. [Data: Twitter Airline Sentiment](#1.-Data:-Twitter-Airline-Sentiment)\n",
    "2. [EDA and Data Preparation](#2.-Exploratory-Data-Analysis)\n",
    "3. [Naive Bayes With Multiple Predictors](#3.-Naive-Bayes-With-Multiple-Predictors)\n",
    "4. [Model Evaluation](#4.-Model-Evaluation)"
   ]
  },
  {
   "cell_type": "code",
   "execution_count": 1,
   "metadata": {},
   "outputs": [],
   "source": [
    "import numpy as np\n",
    "import pandas as pd\n",
    "\n",
    "import nltk\n",
    "import ast\n",
    "\n",
    "import matplotlib.pyplot as plt\n",
    "import seaborn as sns\n",
    "from nltk.stem.porter import PorterStemmer\n",
    "from sklearn.feature_extraction.text import ENGLISH_STOP_WORDS as stopwords\n",
    "import string\n",
    "string.punctuation\n",
    "\n",
    "from nltk.tokenize import TweetTokenizer"
   ]
  },
  {
   "cell_type": "code",
   "execution_count": 2,
   "metadata": {},
   "outputs": [],
   "source": [
    "rc = {\"xtick.labelsize\": 12, \"ytick.labelsize\": 12, \"axes.labelsize\": 15, \n",
    "      \"axes.titlesize\": 15, \"legend.fontsize\": 12}\n",
    "sns.set_context(\"notebook\", rc=rc)  "
   ]
  },
  {
   "cell_type": "markdown",
   "metadata": {},
   "source": [
    "## 1. Data: Twitter airline sentiment \n",
    "\n",
    "In this notebook, we use the Twitter Arline Sentiment dataset provided by a company called Crowdflower on the Kaggle datasets page. To build this dataset, the data scientists at Crowdflower scraped all tweets addressed to US airlines in February 2015, including metadata about the message. Human contributors then categorised each tweet according to the author's sentiment (positive, neutral, or negative)."
   ]
  },
  {
   "cell_type": "code",
   "execution_count": 3,
   "metadata": {},
   "outputs": [
    {
     "data": {
      "text/html": [
       "<div>\n",
       "<style scoped>\n",
       "    .dataframe tbody tr th:only-of-type {\n",
       "        vertical-align: middle;\n",
       "    }\n",
       "\n",
       "    .dataframe tbody tr th {\n",
       "        vertical-align: top;\n",
       "    }\n",
       "\n",
       "    .dataframe thead th {\n",
       "        text-align: right;\n",
       "    }\n",
       "</style>\n",
       "<table border=\"1\" class=\"dataframe\">\n",
       "  <thead>\n",
       "    <tr style=\"text-align: right;\">\n",
       "      <th></th>\n",
       "      <th>tweet_id</th>\n",
       "      <th>airline_sentiment</th>\n",
       "      <th>airline_sentiment_confidence</th>\n",
       "      <th>negativereason</th>\n",
       "      <th>negativereason_confidence</th>\n",
       "      <th>airline</th>\n",
       "      <th>airline_sentiment_gold</th>\n",
       "      <th>name</th>\n",
       "      <th>negativereason_gold</th>\n",
       "      <th>retweet_count</th>\n",
       "      <th>text</th>\n",
       "      <th>tweet_coord</th>\n",
       "      <th>tweet_created</th>\n",
       "      <th>tweet_location</th>\n",
       "      <th>user_timezone</th>\n",
       "    </tr>\n",
       "  </thead>\n",
       "  <tbody>\n",
       "    <tr>\n",
       "      <th>0</th>\n",
       "      <td>570306133677760513</td>\n",
       "      <td>neutral</td>\n",
       "      <td>1.0000</td>\n",
       "      <td>NaN</td>\n",
       "      <td>NaN</td>\n",
       "      <td>Virgin America</td>\n",
       "      <td>NaN</td>\n",
       "      <td>cairdin</td>\n",
       "      <td>NaN</td>\n",
       "      <td>0</td>\n",
       "      <td>@VirginAmerica What @dhepburn said.</td>\n",
       "      <td>NaN</td>\n",
       "      <td>2015-02-24 11:35:52 -0800</td>\n",
       "      <td>NaN</td>\n",
       "      <td>Eastern Time (US &amp; Canada)</td>\n",
       "    </tr>\n",
       "    <tr>\n",
       "      <th>1</th>\n",
       "      <td>570301130888122368</td>\n",
       "      <td>positive</td>\n",
       "      <td>0.3486</td>\n",
       "      <td>NaN</td>\n",
       "      <td>0.0</td>\n",
       "      <td>Virgin America</td>\n",
       "      <td>NaN</td>\n",
       "      <td>jnardino</td>\n",
       "      <td>NaN</td>\n",
       "      <td>0</td>\n",
       "      <td>@VirginAmerica plus you've added commercials t...</td>\n",
       "      <td>NaN</td>\n",
       "      <td>2015-02-24 11:15:59 -0800</td>\n",
       "      <td>NaN</td>\n",
       "      <td>Pacific Time (US &amp; Canada)</td>\n",
       "    </tr>\n",
       "  </tbody>\n",
       "</table>\n",
       "</div>"
      ],
      "text/plain": [
       "             tweet_id airline_sentiment  airline_sentiment_confidence  \\\n",
       "0  570306133677760513           neutral                        1.0000   \n",
       "1  570301130888122368          positive                        0.3486   \n",
       "\n",
       "  negativereason  negativereason_confidence         airline  \\\n",
       "0            NaN                        NaN  Virgin America   \n",
       "1            NaN                        0.0  Virgin America   \n",
       "\n",
       "  airline_sentiment_gold      name negativereason_gold  retweet_count  \\\n",
       "0                    NaN   cairdin                 NaN              0   \n",
       "1                    NaN  jnardino                 NaN              0   \n",
       "\n",
       "                                                text tweet_coord  \\\n",
       "0                @VirginAmerica What @dhepburn said.         NaN   \n",
       "1  @VirginAmerica plus you've added commercials t...         NaN   \n",
       "\n",
       "               tweet_created tweet_location               user_timezone  \n",
       "0  2015-02-24 11:35:52 -0800            NaN  Eastern Time (US & Canada)  \n",
       "1  2015-02-24 11:15:59 -0800            NaN  Pacific Time (US & Canada)  "
      ]
     },
     "execution_count": 3,
     "metadata": {},
     "output_type": "execute_result"
    }
   ],
   "source": [
    "data = pd.read_csv('Tweets.csv')\n",
    "data.head(2)"
   ]
  },
  {
   "cell_type": "markdown",
   "metadata": {},
   "source": [
    "Example of a positive tweet:"
   ]
  },
  {
   "cell_type": "code",
   "execution_count": 4,
   "metadata": {},
   "outputs": [
    {
     "name": "stdout",
     "output_type": "stream",
     "text": [
      "@VirginAmerica plus you've added commercials to the experience... tacky.\n"
     ]
    }
   ],
   "source": [
    "print(data.loc[1, 'text'])"
   ]
  },
  {
   "cell_type": "markdown",
   "metadata": {},
   "source": [
    "Example of a negative tweet:"
   ]
  },
  {
   "cell_type": "code",
   "execution_count": 5,
   "metadata": {},
   "outputs": [
    {
     "name": "stdout",
     "output_type": "stream",
     "text": [
      "@VirginAmerica it's really aggressive to blast obnoxious \"entertainment\" in your guests' faces &amp; they have little recourse\n"
     ]
    }
   ],
   "source": [
    "print(data.loc[3, 'text'])"
   ]
  },
  {
   "cell_type": "markdown",
   "metadata": {},
   "source": [
    "## 2. EDA and Data Preparation\n",
    "\n",
    "Exploring the dataset"
   ]
  },
  {
   "cell_type": "code",
   "execution_count": 6,
   "metadata": {},
   "outputs": [
    {
     "name": "stdout",
     "output_type": "stream",
     "text": [
      "['neutral' 'positive' 'negative']\n"
     ]
    }
   ],
   "source": [
    "#Visualizing the target outcomes\n",
    "\n",
    "print(data['airline_sentiment'].unique())"
   ]
  },
  {
   "cell_type": "code",
   "execution_count": 7,
   "metadata": {},
   "outputs": [
    {
     "data": {
      "text/html": [
       "<div>\n",
       "<style scoped>\n",
       "    .dataframe tbody tr th:only-of-type {\n",
       "        vertical-align: middle;\n",
       "    }\n",
       "\n",
       "    .dataframe tbody tr th {\n",
       "        vertical-align: top;\n",
       "    }\n",
       "\n",
       "    .dataframe thead th {\n",
       "        text-align: right;\n",
       "    }\n",
       "</style>\n",
       "<table border=\"1\" class=\"dataframe\">\n",
       "  <thead>\n",
       "    <tr style=\"text-align: right;\">\n",
       "      <th></th>\n",
       "      <th>airline_sentiment</th>\n",
       "      <th>airline</th>\n",
       "      <th>text</th>\n",
       "    </tr>\n",
       "  </thead>\n",
       "  <tbody>\n",
       "    <tr>\n",
       "      <th>0</th>\n",
       "      <td>neutral</td>\n",
       "      <td>Virgin America</td>\n",
       "      <td>@VirginAmerica What @dhepburn said.</td>\n",
       "    </tr>\n",
       "    <tr>\n",
       "      <th>1</th>\n",
       "      <td>positive</td>\n",
       "      <td>Virgin America</td>\n",
       "      <td>@VirginAmerica plus you've added commercials t...</td>\n",
       "    </tr>\n",
       "    <tr>\n",
       "      <th>2</th>\n",
       "      <td>neutral</td>\n",
       "      <td>Virgin America</td>\n",
       "      <td>@VirginAmerica I didn't today... Must mean I n...</td>\n",
       "    </tr>\n",
       "  </tbody>\n",
       "</table>\n",
       "</div>"
      ],
      "text/plain": [
       "  airline_sentiment         airline  \\\n",
       "0           neutral  Virgin America   \n",
       "1          positive  Virgin America   \n",
       "2           neutral  Virgin America   \n",
       "\n",
       "                                                text  \n",
       "0                @VirginAmerica What @dhepburn said.  \n",
       "1  @VirginAmerica plus you've added commercials t...  \n",
       "2  @VirginAmerica I didn't today... Must mean I n...  "
      ]
     },
     "execution_count": 7,
     "metadata": {},
     "output_type": "execute_result"
    }
   ],
   "source": [
    "#Dropping columns that will not be used\n",
    "\n",
    "data = data.drop(['tweet_id', 'airline_sentiment_confidence', 'negativereason', 'negativereason_confidence', \n",
    "                  'airline_sentiment_gold', 'name', 'negativereason_gold', 'retweet_count', 'tweet_coord', 'tweet_created',\n",
    "                 'tweet_location', 'user_timezone'], axis=1)\n",
    "\n",
    "data.head(3)\n"
   ]
  },
  {
   "cell_type": "code",
   "execution_count": 8,
   "metadata": {},
   "outputs": [
    {
     "data": {
      "text/plain": [
       "array(['neutral', 'positive', 'negative'], dtype=object)"
      ]
     },
     "execution_count": 8,
     "metadata": {},
     "output_type": "execute_result"
    }
   ],
   "source": [
    "data['airline_sentiment'].unique()"
   ]
  },
  {
   "cell_type": "code",
   "execution_count": 9,
   "metadata": {},
   "outputs": [],
   "source": [
    "#Removing neutral, since we will only be checking negative or positive\n",
    "\n",
    "data = data[data['airline_sentiment'] != 'neutral']"
   ]
  },
  {
   "cell_type": "markdown",
   "metadata": {},
   "source": [
    "It is visible that the majority of the tweets are negative"
   ]
  },
  {
   "cell_type": "code",
   "execution_count": 10,
   "metadata": {},
   "outputs": [
    {
     "data": {
      "text/plain": [
       "negative    9178\n",
       "positive    2363\n",
       "Name: airline_sentiment, dtype: int64"
      ]
     },
     "execution_count": 10,
     "metadata": {},
     "output_type": "execute_result"
    }
   ],
   "source": [
    "data['airline_sentiment'].value_counts()"
   ]
  },
  {
   "cell_type": "code",
   "execution_count": 11,
   "metadata": {},
   "outputs": [
    {
     "name": "stdout",
     "output_type": "stream",
     "text": [
      "{'positive': 0, 'negative': 1}\n"
     ]
    }
   ],
   "source": [
    "#Creating dummy variables for the target values where positive = 0 and negative = 1\n",
    "\n",
    "binary_class = set(data.airline_sentiment)\n",
    "index = dict((a, b) for b, a in enumerate(binary_class))\n",
    "index_to_class = dict((c, d) for d, c in index.items())\n",
    "\n",
    "print(index)"
   ]
  },
  {
   "cell_type": "code",
   "execution_count": 12,
   "metadata": {},
   "outputs": [],
   "source": [
    "ids = lambda airline_sentiment: np.array([index.get(x) for x in airline_sentiment])\n",
    "\n",
    "data['target'] = ids(data.airline_sentiment)"
   ]
  },
  {
   "cell_type": "code",
   "execution_count": 13,
   "metadata": {},
   "outputs": [
    {
     "data": {
      "text/html": [
       "<div>\n",
       "<style scoped>\n",
       "    .dataframe tbody tr th:only-of-type {\n",
       "        vertical-align: middle;\n",
       "    }\n",
       "\n",
       "    .dataframe tbody tr th {\n",
       "        vertical-align: top;\n",
       "    }\n",
       "\n",
       "    .dataframe thead th {\n",
       "        text-align: right;\n",
       "    }\n",
       "</style>\n",
       "<table border=\"1\" class=\"dataframe\">\n",
       "  <thead>\n",
       "    <tr style=\"text-align: right;\">\n",
       "      <th></th>\n",
       "      <th>airline_sentiment</th>\n",
       "      <th>airline</th>\n",
       "      <th>text</th>\n",
       "      <th>target</th>\n",
       "    </tr>\n",
       "  </thead>\n",
       "  <tbody>\n",
       "    <tr>\n",
       "      <th>1</th>\n",
       "      <td>positive</td>\n",
       "      <td>Virgin America</td>\n",
       "      <td>@VirginAmerica plus you've added commercials t...</td>\n",
       "      <td>0</td>\n",
       "    </tr>\n",
       "    <tr>\n",
       "      <th>3</th>\n",
       "      <td>negative</td>\n",
       "      <td>Virgin America</td>\n",
       "      <td>@VirginAmerica it's really aggressive to blast...</td>\n",
       "      <td>1</td>\n",
       "    </tr>\n",
       "    <tr>\n",
       "      <th>4</th>\n",
       "      <td>negative</td>\n",
       "      <td>Virgin America</td>\n",
       "      <td>@VirginAmerica and it's a really big bad thing...</td>\n",
       "      <td>1</td>\n",
       "    </tr>\n",
       "    <tr>\n",
       "      <th>5</th>\n",
       "      <td>negative</td>\n",
       "      <td>Virgin America</td>\n",
       "      <td>@VirginAmerica seriously would pay $30 a fligh...</td>\n",
       "      <td>1</td>\n",
       "    </tr>\n",
       "    <tr>\n",
       "      <th>6</th>\n",
       "      <td>positive</td>\n",
       "      <td>Virgin America</td>\n",
       "      <td>@VirginAmerica yes, nearly every time I fly VX...</td>\n",
       "      <td>0</td>\n",
       "    </tr>\n",
       "  </tbody>\n",
       "</table>\n",
       "</div>"
      ],
      "text/plain": [
       "  airline_sentiment         airline  \\\n",
       "1          positive  Virgin America   \n",
       "3          negative  Virgin America   \n",
       "4          negative  Virgin America   \n",
       "5          negative  Virgin America   \n",
       "6          positive  Virgin America   \n",
       "\n",
       "                                                text  target  \n",
       "1  @VirginAmerica plus you've added commercials t...       0  \n",
       "3  @VirginAmerica it's really aggressive to blast...       1  \n",
       "4  @VirginAmerica and it's a really big bad thing...       1  \n",
       "5  @VirginAmerica seriously would pay $30 a fligh...       1  \n",
       "6  @VirginAmerica yes, nearly every time I fly VX...       0  "
      ]
     },
     "execution_count": 13,
     "metadata": {},
     "output_type": "execute_result"
    }
   ],
   "source": [
    "data.head(5)"
   ]
  },
  {
   "cell_type": "code",
   "execution_count": 14,
   "metadata": {},
   "outputs": [
    {
     "data": {
      "text/plain": [
       "airline_sentiment    0\n",
       "airline              0\n",
       "text                 0\n",
       "target               0\n",
       "dtype: int64"
      ]
     },
     "execution_count": 14,
     "metadata": {},
     "output_type": "execute_result"
    }
   ],
   "source": [
    "#Checking for null values\n",
    "\n",
    "data.isnull().sum()"
   ]
  },
  {
   "cell_type": "code",
   "execution_count": 15,
   "metadata": {},
   "outputs": [],
   "source": [
    "#Cleaning symbols and emojis\n",
    "\n",
    "import re\n",
    "\n",
    "data['text'] = data['text'].apply(lambda x: re.sub(r'[^\\w\\s]', \"\", x))"
   ]
  },
  {
   "cell_type": "code",
   "execution_count": 16,
   "metadata": {},
   "outputs": [
    {
     "data": {
      "text/html": [
       "<div>\n",
       "<style scoped>\n",
       "    .dataframe tbody tr th:only-of-type {\n",
       "        vertical-align: middle;\n",
       "    }\n",
       "\n",
       "    .dataframe tbody tr th {\n",
       "        vertical-align: top;\n",
       "    }\n",
       "\n",
       "    .dataframe thead th {\n",
       "        text-align: right;\n",
       "    }\n",
       "</style>\n",
       "<table border=\"1\" class=\"dataframe\">\n",
       "  <thead>\n",
       "    <tr style=\"text-align: right;\">\n",
       "      <th></th>\n",
       "      <th>airline_sentiment</th>\n",
       "      <th>airline</th>\n",
       "      <th>text</th>\n",
       "      <th>target</th>\n",
       "    </tr>\n",
       "  </thead>\n",
       "  <tbody>\n",
       "    <tr>\n",
       "      <th>1</th>\n",
       "      <td>positive</td>\n",
       "      <td>Virgin America</td>\n",
       "      <td>VirginAmerica plus youve added commercials to ...</td>\n",
       "      <td>0</td>\n",
       "    </tr>\n",
       "    <tr>\n",
       "      <th>3</th>\n",
       "      <td>negative</td>\n",
       "      <td>Virgin America</td>\n",
       "      <td>VirginAmerica its really aggressive to blast o...</td>\n",
       "      <td>1</td>\n",
       "    </tr>\n",
       "    <tr>\n",
       "      <th>4</th>\n",
       "      <td>negative</td>\n",
       "      <td>Virgin America</td>\n",
       "      <td>VirginAmerica and its a really big bad thing a...</td>\n",
       "      <td>1</td>\n",
       "    </tr>\n",
       "  </tbody>\n",
       "</table>\n",
       "</div>"
      ],
      "text/plain": [
       "  airline_sentiment         airline  \\\n",
       "1          positive  Virgin America   \n",
       "3          negative  Virgin America   \n",
       "4          negative  Virgin America   \n",
       "\n",
       "                                                text  target  \n",
       "1  VirginAmerica plus youve added commercials to ...       0  \n",
       "3  VirginAmerica its really aggressive to blast o...       1  \n",
       "4  VirginAmerica and its a really big bad thing a...       1  "
      ]
     },
     "execution_count": 16,
     "metadata": {},
     "output_type": "execute_result"
    }
   ],
   "source": [
    "data.head(3)"
   ]
  },
  {
   "cell_type": "code",
   "execution_count": 17,
   "metadata": {},
   "outputs": [
    {
     "name": "stdout",
     "output_type": "stream",
     "text": [
      "Original:\n",
      "VirginAmerica plus youve added commercials to the experience tacky\n",
      "\n",
      "Tokenized:\n",
      "['VirginAmerica', 'plus', 'youve', 'added', 'commercials', 'to', 'the', 'experience', 'tacky']\n"
     ]
    }
   ],
   "source": [
    "# Tokenazing the tweets, to split the phrases into single words\n",
    "\n",
    "tweet = data.loc[1, 'text'] \n",
    "Tokenizer = TweetTokenizer()\n",
    "tokenized = Tokenizer.tokenize(tweet)\n",
    "\n",
    "print('Original:')\n",
    "print(tweet)\n",
    "print()\n",
    "print('Tokenized:')\n",
    "print(tokenized)"
   ]
  },
  {
   "cell_type": "markdown",
   "metadata": {},
   "source": [
    "### Cleaning & Tokenization\n",
    "\n",
    "Common abbreviations and non-English words such as ‘LOL’, ‘bday’, ‘hahaha’, were replaced in the code below with a descriptive word to reduce the number of text features present. Stop words were used to identify and remove commonly used insignificant words that contain low-level information such as ‘is’, ‘the’ and ‘in’.\n",
    "\n",
    "The removal of stop words gives the model more focus on words with more contextual importance, and the decrease of features will increase the speed of training models."
   ]
  },
  {
   "cell_type": "code",
   "execution_count": 18,
   "metadata": {},
   "outputs": [],
   "source": [
    "# Tokenizing, which is spliting a phrase into words\n",
    "# Changing to lower case\n",
    "# Removing stopwords\n",
    "# Stemmer to cut the end the words such as trying -> try\n",
    "\n",
    "\n",
    "def process_text(text):\n",
    "    \n",
    "    tokenized = Tokenizer.tokenize(text)\n",
    "    \n",
    "    processed = []\n",
    "    for word in tokenized:\n",
    "        if word not in string.punctuation:\n",
    "            word = word.lower()\n",
    "            if word not in stopwords:\n",
    "                processed.append(PorterStemmer().stem(word))\n",
    "    \n",
    "    return processed"
   ]
  },
  {
   "cell_type": "code",
   "execution_count": 19,
   "metadata": {},
   "outputs": [],
   "source": [
    "data['tokens'] = data['text'].apply(process_text)"
   ]
  },
  {
   "cell_type": "code",
   "execution_count": 20,
   "metadata": {},
   "outputs": [
    {
     "data": {
      "text/plain": [
       "1        [virginamerica, plu, youv, ad, commerci, exper...\n",
       "3        [virginamerica, realli, aggress, blast, obnoxi...\n",
       "4                 [virginamerica, realli, big, bad, thing]\n",
       "5        [virginamerica, serious, pay, 30, flight, seat...\n",
       "6        [virginamerica, ye, nearli, time, fli, vx, ear...\n",
       "                               ...                        \n",
       "14633    [americanair, flight, cancel, flightl, leav, t...\n",
       "14634                     [americanair, right, cue, delay]\n",
       "14635    [americanair, thank, got, differ, flight, chic...\n",
       "14636    [americanair, leav, 20, minut, late, flight, w...\n",
       "14638    [americanair, money, chang, flight, dont, answ...\n",
       "Name: tokens, Length: 11541, dtype: object"
      ]
     },
     "execution_count": 20,
     "metadata": {},
     "output_type": "execute_result"
    }
   ],
   "source": [
    "data['tokens']"
   ]
  },
  {
   "cell_type": "code",
   "execution_count": 21,
   "metadata": {},
   "outputs": [],
   "source": [
    "#Splitting the data into train and test\n",
    "\n",
    "from sklearn.model_selection import train_test_split\n",
    "\n",
    "train, test = train_test_split(data, train_size=0.7, random_state=1)"
   ]
  },
  {
   "cell_type": "code",
   "execution_count": 22,
   "metadata": {},
   "outputs": [
    {
     "data": {
      "text/plain": [
       "negative    6404\n",
       "positive    1674\n",
       "Name: airline_sentiment, dtype: int64"
      ]
     },
     "execution_count": 22,
     "metadata": {},
     "output_type": "execute_result"
    }
   ],
   "source": [
    "train['airline_sentiment'].value_counts()"
   ]
  },
  {
   "cell_type": "markdown",
   "metadata": {},
   "source": [
    "### Tweets per airline\n",
    "\n",
    "A cross tabulation to break down the numbers by airline. \n",
    "American, US Airways, and United in particular had a high proportion of complaints that month:"
   ]
  },
  {
   "cell_type": "code",
   "execution_count": 23,
   "metadata": {},
   "outputs": [
    {
     "data": {
      "text/html": [
       "<div>\n",
       "<style scoped>\n",
       "    .dataframe tbody tr th:only-of-type {\n",
       "        vertical-align: middle;\n",
       "    }\n",
       "\n",
       "    .dataframe tbody tr th {\n",
       "        vertical-align: top;\n",
       "    }\n",
       "\n",
       "    .dataframe thead th {\n",
       "        text-align: right;\n",
       "    }\n",
       "</style>\n",
       "<table border=\"1\" class=\"dataframe\">\n",
       "  <thead>\n",
       "    <tr style=\"text-align: right;\">\n",
       "      <th>airline</th>\n",
       "      <th>American</th>\n",
       "      <th>Delta</th>\n",
       "      <th>Southwest</th>\n",
       "      <th>US Airways</th>\n",
       "      <th>United</th>\n",
       "      <th>Virgin America</th>\n",
       "    </tr>\n",
       "    <tr>\n",
       "      <th>airline_sentiment</th>\n",
       "      <th></th>\n",
       "      <th></th>\n",
       "      <th></th>\n",
       "      <th></th>\n",
       "      <th></th>\n",
       "      <th></th>\n",
       "    </tr>\n",
       "  </thead>\n",
       "  <tbody>\n",
       "    <tr>\n",
       "      <th>negative</th>\n",
       "      <td>1396</td>\n",
       "      <td>656</td>\n",
       "      <td>823</td>\n",
       "      <td>1585</td>\n",
       "      <td>1813</td>\n",
       "      <td>131</td>\n",
       "    </tr>\n",
       "    <tr>\n",
       "      <th>positive</th>\n",
       "      <td>248</td>\n",
       "      <td>400</td>\n",
       "      <td>394</td>\n",
       "      <td>192</td>\n",
       "      <td>347</td>\n",
       "      <td>93</td>\n",
       "    </tr>\n",
       "  </tbody>\n",
       "</table>\n",
       "</div>"
      ],
      "text/plain": [
       "airline            American  Delta  Southwest  US Airways  United  \\\n",
       "airline_sentiment                                                   \n",
       "negative               1396    656        823        1585    1813   \n",
       "positive                248    400        394         192     347   \n",
       "\n",
       "airline            Virgin America  \n",
       "airline_sentiment                  \n",
       "negative                      131  \n",
       "positive                       93  "
      ]
     },
     "execution_count": 23,
     "metadata": {},
     "output_type": "execute_result"
    }
   ],
   "source": [
    "table = pd.crosstab(train['airline_sentiment'], train['airline'])\n",
    "table"
   ]
  },
  {
   "cell_type": "markdown",
   "metadata": {},
   "source": [
    "\n",
    "\n",
    "One of the challenges in building the classifier will be to select the predictors to include in the model. A good way to start is to explore the most common words in each type of document. We first consider the most common words in the data as a whole.\n",
    "\n",
    "FreqDist was used to to count the frequency of each word, i.e. the number of times the word appears."
   ]
  },
  {
   "cell_type": "code",
   "execution_count": 24,
   "metadata": {},
   "outputs": [
    {
     "name": "stdout",
     "output_type": "stream",
     "text": [
      "[('flight', 2872), ('unit', 2372), ('usairway', 1858), ('americanair', 1753), ('southwestair', 1236), ('jetblu', 1162), ('thank', 1037), ('hour', 800)]\n"
     ]
    }
   ],
   "source": [
    "frequency = nltk.FreqDist()\n",
    "for words in train['tokens']:\n",
    "    wordlist = ast.literal_eval(str(words))\n",
    "    for word in wordlist:\n",
    "        frequency[word] += 1\n",
    "\n",
    "print(frequency.most_common()[:8])"
   ]
  },
  {
   "cell_type": "markdown",
   "metadata": {},
   "source": [
    "### Visualization of the frequency of words"
   ]
  },
  {
   "cell_type": "code",
   "execution_count": 25,
   "metadata": {},
   "outputs": [
    {
     "data": {
      "image/png": "[encoded data removed]",
      "text/plain": [
       "<Figure size 576x432 with 1 Axes>"
      ]
     },
     "metadata": {
      "needs_background": "light"
     },
     "output_type": "display_data"
    }
   ],
   "source": [
    "n = 19\n",
    "frequency_data = pd.Series(dict(frequency.most_common()[:n]))\n",
    "\n",
    "fig, ax = plt.subplots(figsize=(8, 6))\n",
    "plt.bar(np.arange(0, n), frequency_data, color='lightblue', edgecolor='black')\n",
    "plt.xticks(np.arange(0, n), frequency_data.index, rotation=90)\n",
    "plt.ylabel('Frequency')\n",
    "plt.title('Figure 1. Frequency of the {} most common words'.format(n));"
   ]
  },
  {
   "cell_type": "markdown",
   "metadata": {},
   "source": [
    "\n",
    "### Positive and Negative words\n",
    "\n",
    "It is visible in the analysis below that nearly half of the positive tweets contain the word \"thank\". Additionally, words such as \"great\", \"love\", \"best\", and \"awesome\" are among the most frequent in positive tweets and do not appear among the most frequent in negative tweets. Similarly, \"delay\", \"cancel\", and \"wait\" are among the most frequent for negative tweets and are not among the most frequent for positive tweets."
   ]
  },
  {
   "cell_type": "code",
   "execution_count": 26,
   "metadata": {},
   "outputs": [],
   "source": [
    "positive_tweets = train[train['airline_sentiment'] == 'positive']\n",
    "\n",
    "freq_positive = nltk.FreqDist()\n",
    "for words in positive_tweets['tokens']:\n",
    "    wordlist = ast.literal_eval(str(words))\n",
    "    for word in np.unique(wordlist): # not counting repeated words this time\n",
    "        freq_positive[word] += 1"
   ]
  },
  {
   "cell_type": "code",
   "execution_count": 27,
   "metadata": {},
   "outputs": [
    {
     "data": {
      "image/png": "[encoded data removed]",
      "text/plain": [
       "<Figure size 576x432 with 1 Axes>"
      ]
     },
     "metadata": {
      "needs_background": "light"
     },
     "output_type": "display_data"
    }
   ],
   "source": [
    "n = 20\n",
    "frequency_data = pd.Series(dict(freq_positive.most_common()[:n]))\n",
    "n_positive_tweets = len(positive_tweets)\n",
    "percentage_data = frequency_data/n_positive_tweets * 100\n",
    "\n",
    "fig, ax = plt.subplots(figsize=(8, 6))\n",
    "plt.bar(np.arange(0, n), percentage_data, color='lightblue', edgecolor='black')\n",
    "plt.xticks(np.arange(0, n), percentage_data.index, rotation=90)\n",
    "plt.ylabel('Percentage of positive tweets\\nthe word appears in (%)')\n",
    "plt.title('Figure 2. {} most common words in positive tweets'.format(n));"
   ]
  },
  {
   "cell_type": "code",
   "execution_count": 28,
   "metadata": {},
   "outputs": [],
   "source": [
    "negative_tweets = train[train['airline_sentiment'] == 'negative']\n",
    "\n",
    "freq_negative = nltk.FreqDist()\n",
    "for words in negative_tweets['tokens']:\n",
    "    wordlist = ast.literal_eval(str(words))\n",
    "    for word in np.unique(wordlist):\n",
    "        freq_negative[word] += 1"
   ]
  },
  {
   "cell_type": "code",
   "execution_count": 29,
   "metadata": {},
   "outputs": [
    {
     "data": {
      "image/png": "[encoded data removed]",
      "text/plain": [
       "<Figure size 576x432 with 1 Axes>"
      ]
     },
     "metadata": {
      "needs_background": "light"
     },
     "output_type": "display_data"
    }
   ],
   "source": [
    "n = 18\n",
    "frequency_data = pd.Series(dict(freq_negative.most_common()[:n]))\n",
    "n_negative_tweets = len(negative_tweets)\n",
    "percentage_data = frequency_data/n_negative_tweets * 100\n",
    "\n",
    "fig, ax = plt.subplots(figsize=(8, 6))\n",
    "plt.bar(np.arange(0, n), percentage_data, color='lightblue', edgecolor='black')\n",
    "plt.xticks(np.arange(0, n), percentage_data.index, rotation=90)\n",
    "plt.ylabel('Percentage of negative tweets\\nthe word appears in (%)')\n",
    "plt.title('Figure 3. {} most common words in negative tweets'.format(n));"
   ]
  },
  {
   "cell_type": "code",
   "execution_count": 30,
   "metadata": {},
   "outputs": [],
   "source": [
    "# taking each element in the \"tokens\" column, which is assumed to be a list of strings, \n",
    "# and joining them into a single string with spaces in between the tokens \n",
    "\n",
    "train_join = train[\"tokens\"].map(' '.join)\n",
    "test_join = test[\"tokens\"].map(' '.join)"
   ]
  },
  {
   "cell_type": "markdown",
   "metadata": {},
   "source": [
    "First it is required to construct a predictor storing the bag of words representation for this. If a tweet contains 'thank' the predictor will have a 1, otherwise it will have a 0. The following calculates the bag of words representation on all of the data."
   ]
  },
  {
   "cell_type": "code",
   "execution_count": 31,
   "metadata": {},
   "outputs": [],
   "source": [
    "from sklearn.feature_extraction.text import CountVectorizer\n",
    "\n",
    "train_corpus = train_join\n",
    "test_corpus = test_join\n",
    "\n",
    "count_vectorizer = CountVectorizer(binary=True)\n",
    "count_vectorizer.fit(train_corpus)\n",
    "\n",
    "bow_train = count_vectorizer.transform(train_corpus)\n",
    "bow_test = count_vectorizer.transform(test_corpus)"
   ]
  },
  {
   "cell_type": "code",
   "execution_count": 32,
   "metadata": {},
   "outputs": [
    {
     "name": "stderr",
     "output_type": "stream",
     "text": [
      "C:\\Users\\ericp\\anaconda3\\lib\\site-packages\\sklearn\\utils\\deprecation.py:87: FutureWarning: Function get_feature_names is deprecated; get_feature_names is deprecated in 1.0 and will be removed in 1.2. Please use get_feature_names_out instead.\n",
      "  warnings.warn(msg, category=FutureWarning)\n"
     ]
    }
   ],
   "source": [
    "#Checking with the word 'thank'\n",
    "\n",
    "thank_index = count_vectorizer.get_feature_names().index('thank')\n",
    "X_train = bow_train[:, thank_index].todense()\n",
    "X_test = bow_test[:, thank_index].todense()"
   ]
  },
  {
   "cell_type": "code",
   "execution_count": 33,
   "metadata": {},
   "outputs": [
    {
     "data": {
      "text/plain": [
       "matrix([[0],\n",
       "        [0],\n",
       "        [0],\n",
       "        [0],\n",
       "        [1],\n",
       "        [0],\n",
       "        [0],\n",
       "        [0],\n",
       "        [0],\n",
       "        [1]], dtype=int64)"
      ]
     },
     "execution_count": 33,
     "metadata": {},
     "output_type": "execute_result"
    }
   ],
   "source": [
    "# 1 is where the work 'thank' was used\n",
    "\n",
    "X_train[15:25]"
   ]
  },
  {
   "cell_type": "markdown",
   "metadata": {},
   "source": [
    "You can see that tweet 7593 and 2205 contains the word 'thank'. Hence, this tweet is marked with a 1 in X_train."
   ]
  },
  {
   "cell_type": "code",
   "execution_count": 34,
   "metadata": {},
   "outputs": [
    {
     "data": {
      "text/html": [
       "<div>\n",
       "<style scoped>\n",
       "    .dataframe tbody tr th:only-of-type {\n",
       "        vertical-align: middle;\n",
       "    }\n",
       "\n",
       "    .dataframe tbody tr th {\n",
       "        vertical-align: top;\n",
       "    }\n",
       "\n",
       "    .dataframe thead th {\n",
       "        text-align: right;\n",
       "    }\n",
       "</style>\n",
       "<table border=\"1\" class=\"dataframe\">\n",
       "  <thead>\n",
       "    <tr style=\"text-align: right;\">\n",
       "      <th></th>\n",
       "      <th>airline_sentiment</th>\n",
       "      <th>airline</th>\n",
       "      <th>text</th>\n",
       "      <th>target</th>\n",
       "      <th>tokens</th>\n",
       "    </tr>\n",
       "  </thead>\n",
       "  <tbody>\n",
       "    <tr>\n",
       "      <th>9901</th>\n",
       "      <td>negative</td>\n",
       "      <td>US Airways</td>\n",
       "      <td>USAirways please help No bags no way to get th...</td>\n",
       "      <td>1</td>\n",
       "      <td>[usairway, help, bag, way, custom, servic, 8am...</td>\n",
       "    </tr>\n",
       "    <tr>\n",
       "      <th>6134</th>\n",
       "      <td>positive</td>\n",
       "      <td>Southwest</td>\n",
       "      <td>SouthwestAir just had a great flight 4223 with...</td>\n",
       "      <td>0</td>\n",
       "      <td>[southwestair, just, great, flight, 4223, dami...</td>\n",
       "    </tr>\n",
       "    <tr>\n",
       "      <th>11929</th>\n",
       "      <td>negative</td>\n",
       "      <td>American</td>\n",
       "      <td>AmericanAir dont worry Ill be sending a letter...</td>\n",
       "      <td>1</td>\n",
       "      <td>[americanair, dont, worri, ill, send, letter, ...</td>\n",
       "    </tr>\n",
       "    <tr>\n",
       "      <th>9726</th>\n",
       "      <td>negative</td>\n",
       "      <td>US Airways</td>\n",
       "      <td>USAirways PHLAirport always nice when a custom...</td>\n",
       "      <td>1</td>\n",
       "      <td>[usairway, phlairport, nice, custom, servic, m...</td>\n",
       "    </tr>\n",
       "    <tr>\n",
       "      <th>7593</th>\n",
       "      <td>positive</td>\n",
       "      <td>Delta</td>\n",
       "      <td>JetBlue got it thanks the quick reply</td>\n",
       "      <td>0</td>\n",
       "      <td>[jetblu, got, thank, quick, repli]</td>\n",
       "    </tr>\n",
       "    <tr>\n",
       "      <th>11298</th>\n",
       "      <td>negative</td>\n",
       "      <td>US Airways</td>\n",
       "      <td>USAirways well this is nofun nocustomerservice...</td>\n",
       "      <td>1</td>\n",
       "      <td>[usairway, nofun, nocustomerservic, onhold, tr...</td>\n",
       "    </tr>\n",
       "    <tr>\n",
       "      <th>9070</th>\n",
       "      <td>negative</td>\n",
       "      <td>US Airways</td>\n",
       "      <td>USAirways Beamske how about a real live person...</td>\n",
       "      <td>1</td>\n",
       "      <td>[usairway, beamsk, real, live, person, talk, p...</td>\n",
       "    </tr>\n",
       "    <tr>\n",
       "      <th>1397</th>\n",
       "      <td>negative</td>\n",
       "      <td>United</td>\n",
       "      <td>united why do you want me to be loyal  if dont...</td>\n",
       "      <td>1</td>\n",
       "      <td>[unit, want, loyal, dont, let, carri, bag, eas...</td>\n",
       "    </tr>\n",
       "    <tr>\n",
       "      <th>4409</th>\n",
       "      <td>negative</td>\n",
       "      <td>Southwest</td>\n",
       "      <td>SouthwestAir Rapid Rewards program sold me sho...</td>\n",
       "      <td>1</td>\n",
       "      <td>[southwestair, rapid, reward, program, sold, s...</td>\n",
       "    </tr>\n",
       "    <tr>\n",
       "      <th>2205</th>\n",
       "      <td>positive</td>\n",
       "      <td>United</td>\n",
       "      <td>united Thanks for the upgrade please try to ge...</td>\n",
       "      <td>0</td>\n",
       "      <td>[unit, thank, upgrad, tri, compani, approv, bu...</td>\n",
       "    </tr>\n",
       "  </tbody>\n",
       "</table>\n",
       "</div>"
      ],
      "text/plain": [
       "      airline_sentiment     airline  \\\n",
       "9901           negative  US Airways   \n",
       "6134           positive   Southwest   \n",
       "11929          negative    American   \n",
       "9726           negative  US Airways   \n",
       "7593           positive       Delta   \n",
       "11298          negative  US Airways   \n",
       "9070           negative  US Airways   \n",
       "1397           negative      United   \n",
       "4409           negative   Southwest   \n",
       "2205           positive      United   \n",
       "\n",
       "                                                    text  target  \\\n",
       "9901   USAirways please help No bags no way to get th...       1   \n",
       "6134   SouthwestAir just had a great flight 4223 with...       0   \n",
       "11929  AmericanAir dont worry Ill be sending a letter...       1   \n",
       "9726   USAirways PHLAirport always nice when a custom...       1   \n",
       "7593               JetBlue got it thanks the quick reply       0   \n",
       "11298  USAirways well this is nofun nocustomerservice...       1   \n",
       "9070   USAirways Beamske how about a real live person...       1   \n",
       "1397   united why do you want me to be loyal  if dont...       1   \n",
       "4409   SouthwestAir Rapid Rewards program sold me sho...       1   \n",
       "2205   united Thanks for the upgrade please try to ge...       0   \n",
       "\n",
       "                                                  tokens  \n",
       "9901   [usairway, help, bag, way, custom, servic, 8am...  \n",
       "6134   [southwestair, just, great, flight, 4223, dami...  \n",
       "11929  [americanair, dont, worri, ill, send, letter, ...  \n",
       "9726   [usairway, phlairport, nice, custom, servic, m...  \n",
       "7593                  [jetblu, got, thank, quick, repli]  \n",
       "11298  [usairway, nofun, nocustomerservic, onhold, tr...  \n",
       "9070   [usairway, beamsk, real, live, person, talk, p...  \n",
       "1397   [unit, want, loyal, dont, let, carri, bag, eas...  \n",
       "4409   [southwestair, rapid, reward, program, sold, s...  \n",
       "2205   [unit, thank, upgrad, tri, compani, approv, bu...  "
      ]
     },
     "execution_count": 34,
     "metadata": {},
     "output_type": "execute_result"
    }
   ],
   "source": [
    "train[15:25]"
   ]
  },
  {
   "cell_type": "markdown",
   "metadata": {},
   "source": [
    "## 3. Naive Bayes\n",
    "\n",
    "Building the Model and checking the accuracy before improving it"
   ]
  },
  {
   "cell_type": "code",
   "execution_count": 35,
   "metadata": {},
   "outputs": [
    {
     "name": "stdout",
     "output_type": "stream",
     "text": [
      "0.152\n"
     ]
    }
   ],
   "source": [
    "from sklearn.naive_bayes import BernoulliNB\n",
    "from sklearn.model_selection import cross_val_predict\n",
    "from sklearn.metrics import accuracy_score\n",
    "import warnings\n",
    "warnings.filterwarnings(\"ignore\")\n",
    "\n",
    "y_train = train['target'] \n",
    "y_test = test['target']\n",
    "\n",
    "nbc = BernoulliNB().fit(X_train, y_train)\n",
    "\n",
    "pred = cross_val_predict(nbc, X_train, y_train, cv=5)\n",
    "error = 1 - accuracy_score(pred, y_train)\n",
    "\n",
    "print(error.round(3))"
   ]
  },
  {
   "cell_type": "markdown",
   "metadata": {},
   "source": [
    "### Predictors\n",
    "It is important to identify which predictors will be useful, and also in which order it will add the predictors.\n",
    "Therefore, it was decided to only keep words that appear in at least 10 tweets. Dropping to 990 predictors."
   ]
  },
  {
   "cell_type": "code",
   "execution_count": 36,
   "metadata": {},
   "outputs": [
    {
     "data": {
      "text/plain": [
       "990"
      ]
     },
     "execution_count": 36,
     "metadata": {},
     "output_type": "execute_result"
    }
   ],
   "source": [
    "freq_count = np.array(bow_train.sum(axis = 0))\n",
    "predictors = np.array(count_vectorizer.get_feature_names())[freq_count[0] >= 10]\n",
    "len(predictors)"
   ]
  },
  {
   "cell_type": "markdown",
   "metadata": {},
   "source": [
    "\n",
    "\n",
    "The code below ranks each predictors based on how well each of them individually performs on the dataset with the BernoulliNB classifier.\n",
    "\n",
    "This metric penalises the model if its predicted probability of the true class is very low. E.g. the tweet is positive but the model predicts the positive class with a very low probability."
   ]
  },
  {
   "cell_type": "code",
   "execution_count": 37,
   "metadata": {},
   "outputs": [],
   "source": [
    "from sklearn.metrics import log_loss\n",
    "\n",
    "results = pd.DataFrame(columns=['Loss'])\n",
    "\n",
    "for word in predictors:\n",
    "\n",
    "    word_index = count_vectorizer.get_feature_names().index(word)\n",
    "    X_train = bow_train[:, word_index].todense()\n",
    "    X_test = bow_test[:, word_index].todense()\n",
    "\n",
    "    nbc = BernoulliNB().fit(X_train, y_train)\n",
    "\n",
    "    prob = nbc.predict_proba(X_train)\n",
    "    results.loc[word] = log_loss(y_train, prob)"
   ]
  },
  {
   "cell_type": "markdown",
   "metadata": {},
   "source": [
    "The code below is an order of how 'useful' the predictors are:"
   ]
  },
  {
   "cell_type": "code",
   "execution_count": 38,
   "metadata": {},
   "outputs": [
    {
     "data": {
      "text/html": [
       "<div>\n",
       "<style scoped>\n",
       "    .dataframe tbody tr th:only-of-type {\n",
       "        vertical-align: middle;\n",
       "    }\n",
       "\n",
       "    .dataframe tbody tr th {\n",
       "        vertical-align: top;\n",
       "    }\n",
       "\n",
       "    .dataframe thead th {\n",
       "        text-align: right;\n",
       "    }\n",
       "</style>\n",
       "<table border=\"1\" class=\"dataframe\">\n",
       "  <thead>\n",
       "    <tr style=\"text-align: right;\">\n",
       "      <th></th>\n",
       "      <th>Loss</th>\n",
       "    </tr>\n",
       "  </thead>\n",
       "  <tbody>\n",
       "    <tr>\n",
       "      <th>thank</th>\n",
       "      <td>0.418523</td>\n",
       "    </tr>\n",
       "    <tr>\n",
       "      <th>great</th>\n",
       "      <td>0.492926</td>\n",
       "    </tr>\n",
       "    <tr>\n",
       "      <th>hour</th>\n",
       "      <td>0.493266</td>\n",
       "    </tr>\n",
       "    <tr>\n",
       "      <th>love</th>\n",
       "      <td>0.498602</td>\n",
       "    </tr>\n",
       "    <tr>\n",
       "      <th>jetblu</th>\n",
       "      <td>0.498696</td>\n",
       "    </tr>\n",
       "    <tr>\n",
       "      <th>...</th>\n",
       "      <td>...</td>\n",
       "    </tr>\n",
       "    <tr>\n",
       "      <th>cc</th>\n",
       "      <td>0.510271</td>\n",
       "    </tr>\n",
       "    <tr>\n",
       "      <th>gotta</th>\n",
       "      <td>0.510271</td>\n",
       "    </tr>\n",
       "    <tr>\n",
       "      <th>inbound</th>\n",
       "      <td>0.510271</td>\n",
       "    </tr>\n",
       "    <tr>\n",
       "      <th>domest</th>\n",
       "      <td>0.510271</td>\n",
       "    </tr>\n",
       "    <tr>\n",
       "      <th>chairman</th>\n",
       "      <td>0.510271</td>\n",
       "    </tr>\n",
       "  </tbody>\n",
       "</table>\n",
       "<p>990 rows × 1 columns</p>\n",
       "</div>"
      ],
      "text/plain": [
       "              Loss\n",
       "thank     0.418523\n",
       "great     0.492926\n",
       "hour      0.493266\n",
       "love      0.498602\n",
       "jetblu    0.498696\n",
       "...            ...\n",
       "cc        0.510271\n",
       "gotta     0.510271\n",
       "inbound   0.510271\n",
       "domest    0.510271\n",
       "chairman  0.510271\n",
       "\n",
       "[990 rows x 1 columns]"
      ]
     },
     "execution_count": 38,
     "metadata": {},
     "output_type": "execute_result"
    }
   ],
   "source": [
    "results.sort_values('Loss')"
   ]
  },
  {
   "cell_type": "code",
   "execution_count": 39,
   "metadata": {},
   "outputs": [],
   "source": [
    "ordered_predictors = list(results.sort_values('Loss').index)"
   ]
  },
  {
   "cell_type": "markdown",
   "metadata": {},
   "source": [
    "### Multiple Predictors"
   ]
  },
  {
   "cell_type": "code",
   "execution_count": 40,
   "metadata": {},
   "outputs": [],
   "source": [
    "def compute_naive_bayes_model(n_predictors):\n",
    "    # Identify the columns corresponding to the predictors we are using\n",
    "    indices = []\n",
    "    for word in ordered_predictors[:n_predictors+1]:\n",
    "        indices.append(count_vectorizer.get_feature_names().index(word))\n",
    "    \n",
    "    X_train = bow_train[:, indices].todense()\n",
    "    X_test = bow_test[:, indices].todense()\n",
    "    \n",
    "    nbc = BernoulliNB().fit(X_train, y_train)\n",
    "\n",
    "    pred = cross_val_predict(nbc, X_train, y_train, cv=5)\n",
    "    error = 1 - accuracy_score(pred, y_train)\n",
    "    \n",
    "    return error*100"
   ]
  },
  {
   "cell_type": "markdown",
   "metadata": {},
   "source": [
    "### Visualizing the optimal number of predictors "
   ]
  },
  {
   "cell_type": "code",
   "execution_count": 41,
   "metadata": {},
   "outputs": [],
   "source": [
    "cv_errors = []\n",
    "predictor_range = range(0, len(ordered_predictors), 50)\n",
    "\n",
    "for n_predictors in predictor_range:\n",
    "    cv_errors.append(compute_naive_bayes_model(n_predictors))"
   ]
  },
  {
   "cell_type": "code",
   "execution_count": 42,
   "metadata": {},
   "outputs": [
    {
     "data": {
      "image/png": "[encoded data removed]",
      "text/plain": [
       "<Figure size 432x288 with 1 Axes>"
      ]
     },
     "metadata": {
      "needs_background": "light"
     },
     "output_type": "display_data"
    }
   ],
   "source": [
    "plt.plot(predictor_range, cv_errors, '-o')\n",
    "plt.xlabel('Number of predictors')\n",
    "plt.ylabel('Percentage of misclassified tweets (%)')\n",
    "plt.title('Figure 4. Cross validation scores with predictors');"
   ]
  },
  {
   "cell_type": "code",
   "execution_count": 43,
   "metadata": {},
   "outputs": [],
   "source": [
    "cv_errors = []\n",
    "predictor_range = range(400, 550, 10)\n",
    "\n",
    "for n_predictors in predictor_range:\n",
    "    cv_errors.append(compute_naive_bayes_model(n_predictors))"
   ]
  },
  {
   "cell_type": "code",
   "execution_count": 44,
   "metadata": {},
   "outputs": [
    {
     "data": {
      "image/png": "[encoded data removed]",
      "text/plain": [
       "<Figure size 432x288 with 1 Axes>"
      ]
     },
     "metadata": {
      "needs_background": "light"
     },
     "output_type": "display_data"
    }
   ],
   "source": [
    "plt.plot(predictor_range, cv_errors, '-o')\n",
    "plt.xlabel('Number of predictors')\n",
    "plt.ylabel('Percentage of misclassified tweets (%)')\n",
    "plt.title('Figure 6. Cross validation scores with predictors');"
   ]
  },
  {
   "cell_type": "markdown",
   "metadata": {},
   "source": [
    "The best number of predictors to use is 410, which has an error of 9.4 i.e. it misclassifies 9.4% of the tweets."
   ]
  },
  {
   "cell_type": "code",
   "execution_count": 45,
   "metadata": {},
   "outputs": [
    {
     "name": "stdout",
     "output_type": "stream",
     "text": [
      "Number of predictors: 410\n",
      "Error: 9.4\n"
     ]
    }
   ],
   "source": [
    "print('Number of predictors:', predictor_range[np.argmin(cv_errors)])\n",
    "print('Error: {:.1f}'.format(cv_errors[np.argmin(cv_errors)]))"
   ]
  },
  {
   "cell_type": "markdown",
   "metadata": {},
   "source": [
    "# 4. Model Evaluation\n",
    "\n",
    "Evaluating the model with 410 predictors"
   ]
  },
  {
   "cell_type": "code",
   "execution_count": 46,
   "metadata": {},
   "outputs": [],
   "source": [
    "# Model evaluation\n",
    "\n",
    "indices = []\n",
    "for word in ordered_predictors[:410]:\n",
    "    indices.append(count_vectorizer.get_feature_names().index(word))\n",
    "    \n",
    "X_train = bow_train[:, indices].todense()\n",
    "X_test = bow_test[:, indices].todense()\n",
    "\n",
    "nbc = BernoulliNB().fit(X_train, y_train)\n",
    "\n",
    "pred = nbc.predict(X_test)\n",
    "prob = nbc.predict_proba(X_test)[:, 1] # probability of the positive class"
   ]
  },
  {
   "cell_type": "code",
   "execution_count": 47,
   "metadata": {},
   "outputs": [
    {
     "data": {
      "image/png": "[encoded data removed]",
      "text/plain": [
       "<Figure size 432x288 with 1 Axes>"
      ]
     },
     "metadata": {
      "needs_background": "light"
     },
     "output_type": "display_data"
    }
   ],
   "source": [
    "from sklearn.metrics import confusion_matrix\n",
    "\n",
    "cm = confusion_matrix(y_test, pred)\n",
    "plt.imshow(cm, cmap='Blues')\n",
    "\n",
    "plt.text(0, 0, cm[0, 0], ha=\"center\", va=\"center\", color=\"k\", fontsize = 15) \n",
    "plt.text(0, 1, cm[0, 1], ha=\"center\", va=\"center\", color=\"k\", fontsize = 15) \n",
    "plt.text(1, 0, cm[1, 0], ha=\"center\", va=\"center\", color=\"k\", fontsize = 15) \n",
    "plt.text(1, 1, cm[1, 1], ha=\"center\", va=\"center\", color=\"k\", fontsize = 15) \n",
    "plt.xticks([1, 0], ['Predicted\\nNegative', 'Predicted\\nPositive'])    \n",
    "plt.yticks([1, 0], ['Actually\\nNegative', 'Actually\\nPositive'])    \n",
    "plt.title('Figure 7. Confusion matrix')\n",
    "plt.show()"
   ]
  },
  {
   "cell_type": "markdown",
   "metadata": {},
   "source": [
    "Table with common classification metrics.\n",
    "\n",
    "- Precision: of the samples we predicted to be positive, how many were actually positive:\n",
    "\n",
    "$$\\text{Precision}=\\frac{TP}{\\text{Classified positive} }=\\frac{TP}{TP\\ +\\ FP}$$\n",
    "\n",
    "- Recall: of the samples that are actually positive, how many were classified as positive:\n",
    "\n",
    "$$\\text{Recall}\\ =\\frac{TP}{\\text{Actually positive}}=\\ \\frac{TP}{TP+FN}$$\n",
    "\n",
    "\n",
    "- F1 score: the harmonic mean of precision and recall\n",
    "$$\\text{F}_1=\\frac{2}{\\text{recall}^{-1}+\\text{precision}^{-1}}=\\frac{2\\ \\times\\text{precision} \\times \\text{recall}}{\\text{precision + recall}}$$"
   ]
  },
  {
   "cell_type": "code",
   "execution_count": 48,
   "metadata": {},
   "outputs": [],
   "source": [
    "results = pd.DataFrame(columns=['Naive Bayes'])\n",
    "\n",
    "results.loc['% Misclassified'] = (1 - accuracy_score(pred, y_test))*100\n",
    "\n",
    "tn, fp, fn, tp = cm.ravel()\n",
    "precision = tp/(tp + fp)\n",
    "recall = tp/(tp + fn)\n",
    "results.loc['Precision'] = precision\n",
    "results.loc['Recall'] = recall\n",
    "results.loc['F1 scores'] = (2 * precision * recall)/(precision + recall)"
   ]
  },
  {
   "cell_type": "code",
   "execution_count": 49,
   "metadata": {},
   "outputs": [
    {
     "data": {
      "text/html": [
       "<div>\n",
       "<style scoped>\n",
       "    .dataframe tbody tr th:only-of-type {\n",
       "        vertical-align: middle;\n",
       "    }\n",
       "\n",
       "    .dataframe tbody tr th {\n",
       "        vertical-align: top;\n",
       "    }\n",
       "\n",
       "    .dataframe thead th {\n",
       "        text-align: right;\n",
       "    }\n",
       "</style>\n",
       "<table border=\"1\" class=\"dataframe\">\n",
       "  <thead>\n",
       "    <tr style=\"text-align: right;\">\n",
       "      <th></th>\n",
       "      <th>Naive Bayes</th>\n",
       "    </tr>\n",
       "  </thead>\n",
       "  <tbody>\n",
       "    <tr>\n",
       "      <th>% Misclassified</th>\n",
       "      <td>8.87</td>\n",
       "    </tr>\n",
       "    <tr>\n",
       "      <th>Precision</th>\n",
       "      <td>0.95</td>\n",
       "    </tr>\n",
       "    <tr>\n",
       "      <th>Recall</th>\n",
       "      <td>0.94</td>\n",
       "    </tr>\n",
       "    <tr>\n",
       "      <th>F1 scores</th>\n",
       "      <td>0.94</td>\n",
       "    </tr>\n",
       "  </tbody>\n",
       "</table>\n",
       "</div>"
      ],
      "text/plain": [
       "                 Naive Bayes\n",
       "% Misclassified         8.87\n",
       "Precision               0.95\n",
       "Recall                  0.94\n",
       "F1 scores               0.94"
      ]
     },
     "execution_count": 49,
     "metadata": {},
     "output_type": "execute_result"
    }
   ],
   "source": [
    "results.round(2)"
   ]
  }
 ],
 "metadata": {
  "anaconda-cloud": {},
  "kernelspec": {
   "display_name": "Python 3",
   "language": "python",
   "name": "python3"
  },
  "language_info": {
   "codemirror_mode": {
    "name": "ipython",
    "version": 3
   },
   "file_extension": ".py",
   "mimetype": "text/x-python",
   "name": "python",
   "nbconvert_exporter": "python",
   "pygments_lexer": "ipython3",
   "version": "3.8.8"
  }
 },
 "nbformat": 4,
 "nbformat_minor": 4
}
